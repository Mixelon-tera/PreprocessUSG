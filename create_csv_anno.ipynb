{
 "cells": [
  {
   "cell_type": "code",
   "execution_count": 1,
   "metadata": {},
   "outputs": [],
   "source": [
    "import os\n",
    "import json\n",
    "import cv2\n",
    "from tqdm import tqdm\n",
    "import pandas as pd\n",
    "import csv"
   ]
  },
  {
   "cell_type": "code",
   "execution_count": 2,
   "metadata": {},
   "outputs": [],
   "source": [
    "# define json path\n",
    "json_data =  'cropped_data/cropped_annotation/cropped_annotation_mark_added.json' #'annotations/cropped_sampled_seed4.json'\n",
    "json_object = json.load(open(json_data, \"r\", encoding='utf-8'))\n",
    "recon_path = '/home/pixelserver/Desktop/retinanet_mix/cropped_data/cropped_images_recon/'"
   ]
  },
  {
   "cell_type": "code",
   "execution_count": 3,
   "metadata": {},
   "outputs": [],
   "source": [
    "interest_classes = ['FFC', 'FFS', 'hemangioma', 'HCC', 'cyst']\n",
    "\n",
    "def write_csv(csv_type, dataset_type):\n",
    "    writer = csv.writer(csv_type)\n",
    "    \n",
    "    # loop through lesion region\n",
    "    for k,v in tqdm(json_object.items()):\n",
    "\n",
    "        # Get dataset type\n",
    "        data_type = v['set']\n",
    "        zone = data_type.split(\"_\")[0].strip()\n",
    "        pos_neg = data_type.split(\"_\")[-1].strip()\n",
    "        \n",
    "        if zone == dataset_type:\n",
    "            regions = v['regions']\n",
    "            file_path  = recon_path+zone+\"/\"+k\n",
    "\n",
    "            found_lesion=False\n",
    "            for l in regions:\n",
    "                if 'structure' in l['region_attributes'].keys():\n",
    "                    if l['region_attributes']['structure'] in interest_classes:\n",
    "                        found_lesion = True\n",
    "                        lesion_type = l['region_attributes']['structure']\n",
    "                        bbox = l['bbox']\n",
    "                        if bbox['x1'] > bbox['x0'] and bbox['y1'] > bbox['y0']:\n",
    "                            writer.writerow([file_path,bbox['x0'],bbox['y0'],bbox['x1'],bbox['y1'],lesion_type])\n",
    "                    \n",
    "            if not found_lesion:\n",
    "                writer.writerow([file_path,\"\",\"\",\"\",\"\",\"\"])"
   ]
  },
  {
   "cell_type": "code",
   "execution_count": 4,
   "metadata": {},
   "outputs": [
    {
     "name": "stderr",
     "output_type": "stream",
     "text": [
      "100%|██████████| 96956/96956 [00:00<00:00, 240935.76it/s]\n",
      "100%|██████████| 96956/96956 [00:00<00:00, 779079.12it/s]\n",
      "100%|██████████| 96956/96956 [00:00<00:00, 772301.24it/s]\n"
     ]
    }
   ],
   "source": [
    "# create csv file\n",
    "train_csv = open('annotations/training_data.csv','w', newline = '')\n",
    "val_csv = open('annotations/validation_data.csv','w', newline = '')\n",
    "test_csv = open('annotations/testing_data.csv','w', newline = '')\n",
    "\n",
    "write_csv(train_csv, 'train')\n",
    "write_csv(val_csv, 'val')\n",
    "write_csv(test_csv, 'test')"
   ]
  },
  {
   "cell_type": "code",
   "execution_count": null,
   "metadata": {},
   "outputs": [],
   "source": []
  }
 ],
 "metadata": {
  "kernelspec": {
   "display_name": "Python 3",
   "language": "python",
   "name": "python3"
  },
  "language_info": {
   "codemirror_mode": {
    "name": "ipython",
    "version": 3
   },
   "file_extension": ".py",
   "mimetype": "text/x-python",
   "name": "python",
   "nbconvert_exporter": "python",
   "pygments_lexer": "ipython3",
   "version": "3.7.3"
  }
 },
 "nbformat": 4,
 "nbformat_minor": 4
}
