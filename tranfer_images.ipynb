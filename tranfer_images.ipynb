{
 "cells": [
  {
   "cell_type": "code",
   "execution_count": 1,
   "metadata": {},
   "outputs": [],
   "source": [
    "import os\n",
    "import shutil"
   ]
  },
  {
   "cell_type": "code",
   "execution_count": 2,
   "metadata": {},
   "outputs": [],
   "source": [
    "source_folder = '/home/liverusg/PycharmProjects/AI_USG_liver/codes/Pluralistic-Inpainting/mask/' #'/home/liverusg/PycharmProjects/AI_USG_liver/experiments/retinanet_mix/cropped_data/cropped_images/'\n",
    "output_folder = '/home/liverusg/PycharmProjects/AI_USG_liver/codes/Pluralistic-Inpainting/all_mask/' #'/home/liverusg/PycharmProjects/AI_USG_liver/codes/Pluralistic-Inpainting/datasets/usg/'"
   ]
  },
  {
   "cell_type": "code",
   "execution_count": 3,
   "metadata": {},
   "outputs": [],
   "source": [
    "for root, dirs, files in os.walk(source_folder):\n",
    "    for file in files:\n",
    "        if file.endswith(\".jpg\"):\n",
    "            file_path = os.path.join(root, file)\n",
    "            shutil.copy(file_path,output_folder+file)"
   ]
  },
  {
   "cell_type": "code",
   "execution_count": null,
   "metadata": {},
   "outputs": [],
   "source": []
  }
 ],
 "metadata": {
  "kernelspec": {
   "display_name": "Python 3",
   "language": "python",
   "name": "python3"
  },
  "language_info": {
   "codemirror_mode": {
    "name": "ipython",
    "version": 3
   },
   "file_extension": ".py",
   "mimetype": "text/x-python",
   "name": "python",
   "nbconvert_exporter": "python",
   "pygments_lexer": "ipython3",
   "version": "3.7.6"
  }
 },
 "nbformat": 4,
 "nbformat_minor": 4
}
