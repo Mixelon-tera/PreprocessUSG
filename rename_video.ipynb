{
 "cells": [
  {
   "cell_type": "code",
   "execution_count": 1,
   "metadata": {},
   "outputs": [],
   "source": [
    "import os\n",
    "import shutil"
   ]
  },
  {
   "cell_type": "code",
   "execution_count": null,
   "metadata": {},
   "outputs": [],
   "source": [
    "folder_path = '/media/liverusg/4TB/liver_lesion_videos/'\n",
    "\n",
    "for root, dirs, files in os.walk(folder_path):\n",
    "    for file in files:\n",
    "        split_filename = file.split()[0].split(\"-\")\n",
    "        date = \"-\".join(split_filename[-3:])\n",
    "        hn = \"-\".join(split_filename[:-3])\n",
    "        newname = hn+\"_\"+date+\".mov\"\n",
    "        file_path = os.path.join(root,file)\n",
    "        newname_path = os.path.join(root,newname)\n",
    "        os.rename(file_path,newname_path)\n",
    "        print(newname_path)"
   ]
  },
  {
   "cell_type": "code",
   "execution_count": null,
   "metadata": {},
   "outputs": [],
   "source": []
  }
 ],
 "metadata": {
  "kernelspec": {
   "display_name": "Python 3",
   "language": "python",
   "name": "python3"
  },
  "language_info": {
   "codemirror_mode": {
    "name": "ipython",
    "version": 3
   },
   "file_extension": ".py",
   "mimetype": "text/x-python",
   "name": "python",
   "nbconvert_exporter": "python",
   "pygments_lexer": "ipython3",
   "version": "3.7.6"
  }
 },
 "nbformat": 4,
 "nbformat_minor": 4
}
