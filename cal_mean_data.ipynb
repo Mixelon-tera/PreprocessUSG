{
 "cells": [
  {
   "cell_type": "code",
   "execution_count": 11,
   "metadata": {},
   "outputs": [],
   "source": [
    "import os\n",
    "import cv2\n",
    "import matplotlib\n",
    "import numpy as np"
   ]
  },
  {
   "cell_type": "code",
   "execution_count": 15,
   "metadata": {},
   "outputs": [],
   "source": [
    "c = 0\n",
    "sum_img = np.zeros((660,880,3))\n",
    "\n",
    "for root, dirs, files in os.walk('cropped_data/cropped_images_recon/train/'):\n",
    "    for file in files:\n",
    "        if file.endswith(\".jpg\"):\n",
    "            file_path = os.path.join(root,file)\n",
    "            img = cv2.imread(file_path)\n",
    "            resize_img =cv2.resize(img, (880,660))\n",
    "            sum_img += resize_img\n",
    "            c+=1\n",
    "            \n",
    "sum_img /= c"
   ]
  },
  {
   "cell_type": "code",
   "execution_count": 20,
   "metadata": {},
   "outputs": [
    {
     "data": {
      "text/plain": [
       "array([[ 1.24748823,  1.24748823,  1.24748823],\n",
       "       [22.04561479, 22.04561479, 22.04561479],\n",
       "       [21.99833808, 21.99833808, 21.99833808],\n",
       "       ...,\n",
       "       [ 0.51214967,  0.51214967,  0.51214967],\n",
       "       [ 0.51694659,  0.51694659,  0.51694659],\n",
       "       [ 0.54906454,  0.54906454,  0.54906454]])"
      ]
     },
     "execution_count": 20,
     "metadata": {},
     "output_type": "execute_result"
    }
   ],
   "source": [
    "sum_img[0]"
   ]
  },
  {
   "cell_type": "code",
   "execution_count": 24,
   "metadata": {},
   "outputs": [
    {
     "data": {
      "text/plain": [
       "array([3.5071509 , 3.50715078, 3.50715078])"
      ]
     },
     "execution_count": 24,
     "metadata": {},
     "output_type": "execute_result"
    }
   ],
   "source": [
    "np.mean(sum_img[0], axis=0)"
   ]
  },
  {
   "cell_type": "code",
   "execution_count": null,
   "metadata": {},
   "outputs": [],
   "source": []
  }
 ],
 "metadata": {
  "kernelspec": {
   "display_name": "Python 3",
   "language": "python",
   "name": "python3"
  },
  "language_info": {
   "codemirror_mode": {
    "name": "ipython",
    "version": 3
   },
   "file_extension": ".py",
   "mimetype": "text/x-python",
   "name": "python",
   "nbconvert_exporter": "python",
   "pygments_lexer": "ipython3",
   "version": "3.7.6"
  }
 },
 "nbformat": 4,
 "nbformat_minor": 4
}
