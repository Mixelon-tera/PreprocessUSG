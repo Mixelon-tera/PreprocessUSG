{
 "cells": [
  {
   "cell_type": "code",
   "execution_count": 1,
   "metadata": {},
   "outputs": [],
   "source": [
    "import os\n",
    "import json\n",
    "import cv2\n",
    "import shutil\n",
    "import numpy as np\n",
    "from tqdm import tqdm\n",
    "import matplotlib.pyplot as plt"
   ]
  },
  {
   "cell_type": "code",
   "execution_count": 2,
   "metadata": {},
   "outputs": [
    {
     "name": "stderr",
     "output_type": "stream",
     "text": [
      "100%|██████████| 96956/96956 [11:31<00:00, 140.31it/s]\n"
     ]
    }
   ],
   "source": [
    "# read json file\n",
    "viz = False\n",
    "json_data =  'cropped_data/cropped_annotation/cropped_annotation_mark_added.json' #'annotations/cropped_sampled_seed4.json'\n",
    "json_object = json.load(open(json_data, \"r\", encoding='utf-8'))\n",
    "recon_path = '/home/liverusg/PycharmProjects/AI_USG_liver/codes/Pluralistic-Inpainting/results/usg/'\n",
    "\n",
    "output_path = 'cropped_data/cropped_images_recon/'\n",
    "\n",
    "# loop through the region\n",
    "for k,v in tqdm(json_object.items()):\n",
    "\n",
    "    # Get dataset type\n",
    "    data_type = v['set']\n",
    "    zone = data_type.split(\"_\")[0].strip()\n",
    "    pos_neg = data_type.split(\"_\")[-1].strip()\n",
    "    \n",
    "    regions = v['regions']\n",
    "    \n",
    "    # load original image and get shape\n",
    "    file_path  = v['jpg_img_path']\n",
    "    ori_img = cv2.imread(file_path)\n",
    "    ori_height, ori_width, ori_channel = ori_img.shape\n",
    "    \n",
    "    found_mark = False\n",
    "    for l in regions:\n",
    "        if 'markings' in l['region_attributes'].keys():\n",
    "            found_mark = True\n",
    "            break\n",
    "            \n",
    "    # if not find mark in region => copy original image to the output folder\n",
    "    if not found_mark:\n",
    "        shutil.copy(file_path,output_path+zone+\"/\"+k)\n",
    "        \n",
    "    # else load original and get shape \n",
    "    else:\n",
    "        # load and reshape recon_image follow original image\n",
    "        recon_img = cv2.imread(recon_path + k[:-4] + \"_out_0.png\")\n",
    "        recon_img = cv2.resize(recon_img,(ori_width,ori_height))\n",
    "\n",
    "        if viz:\n",
    "            fig = plt.figure(figsize=(20,10))\n",
    "            fig.suptitle(k[:-4])\n",
    "\n",
    "            ax1 = fig.add_subplot(1,2,1)\n",
    "            ax1.imshow(ori_img)\n",
    "            ax2 = fig.add_subplot(1,2,2)\n",
    "            ax2.imshow(recon_img)\n",
    "\n",
    "            plt.show()\n",
    "        \n",
    "        for l in regions:\n",
    "            if 'markings' in l['region_attributes'].keys():\n",
    "                mbbox = l['bbox']\n",
    "                # cut and paste mark region from the recon to the origimal image\n",
    "                ori_img[mbbox['y0']:mbbox['y1'],mbbox['x0']:mbbox['x1']] = recon_img[mbbox['y0']:mbbox['y1'],mbbox['x0']:mbbox['x1']]\n",
    "                                                                                     \n",
    "        # save image to output folder\n",
    "        cv2.imwrite(output_path+zone+\"/\"+k,ori_img)"
   ]
  },
  {
   "cell_type": "code",
   "execution_count": null,
   "metadata": {},
   "outputs": [],
   "source": []
  }
 ],
 "metadata": {
  "kernelspec": {
   "display_name": "Python 3",
   "language": "python",
   "name": "python3"
  },
  "language_info": {
   "codemirror_mode": {
    "name": "ipython",
    "version": 3
   },
   "file_extension": ".py",
   "mimetype": "text/x-python",
   "name": "python",
   "nbconvert_exporter": "python",
   "pygments_lexer": "ipython3",
   "version": "3.7.6"
  }
 },
 "nbformat": 4,
 "nbformat_minor": 4
}
