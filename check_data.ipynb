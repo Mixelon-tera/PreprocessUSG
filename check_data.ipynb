{
 "cells": [
  {
   "cell_type": "code",
   "execution_count": null,
   "metadata": {},
   "outputs": [],
   "source": [
    "import os\n",
    "import json\n",
    "import numpy as np\n",
    "import matplotlib.pyplot as plt"
   ]
  },
  {
   "cell_type": "code",
   "execution_count": null,
   "metadata": {},
   "outputs": [],
   "source": [
    "json_data = 'cropped_data/cropped_annotation/cropped_annotation_mark_added.json'\n",
    "\n",
    "json_object = json.load(open(json_data, \"r\"))\n",
    "#json_formatted_str = json.dumps(json_object, indent=2)"
   ]
  },
  {
   "cell_type": "markdown",
   "metadata": {},
   "source": [
    "## Step of preprocessing data\n",
    "\n",
    "1. Count lesions, marking, pos, neg of each chunk of data (train/val/test)\n",
    "2. Crop image according to 'window' create cropped image folder \n",
    "3. Create new dataset of cropped dataset (create new json file with new bounding box)"
   ]
  },
  {
   "cell_type": "markdown",
   "metadata": {},
   "source": [
    "#### JSON USG cheat\n",
    "\n",
    "dataset type => d['set']\n",
    "\n",
    "lesions => d['regions'][i][‘region_attributes’][‘structure’]\n",
    "\n",
    "boundingg box => d[‘regions’][i][‘bbox’]\n",
    "\n",
    "##################################################################\n",
    "\n",
    "count dataset [FFC, FFS, hemangioma, HCC, cyst]\n",
    "count marking \n",
    "count \n",
    "separate into training, vilidation, testing"
   ]
  },
  {
   "cell_type": "code",
   "execution_count": null,
   "metadata": {},
   "outputs": [],
   "source": [
    "interest_classes = ['FFC', 'FFS', 'hemangioma', 'HCC', 'cyst']\n",
    "\n",
    "def count_in_dataset(dataset_type):\n",
    "    dataset = dict()\n",
    "    \n",
    "    for k,v in json_object.items():\n",
    "        # Initialize the variable\n",
    "        pos = False\n",
    "        \n",
    "        # Get dataset type\n",
    "        data_type = v['set']\n",
    "        \n",
    "        # Check consistent of image and dataset\n",
    "        if data_type.split(\"_\")[0].strip() == dataset_type:\n",
    "            # Find lesion in the image\n",
    "            regions = v['regions']\n",
    "            \n",
    "            found_mark = False\n",
    "            # Loop through the regions\n",
    "            for l in regions:\n",
    "\n",
    "                if 'structure' in l['region_attributes'].keys():\n",
    "                    if l['region_attributes']['structure'] in interest_classes:\n",
    "                        pos = True\n",
    "                        # Add structure into the dataset type\n",
    "                        struc = l['region_attributes']['structure']\n",
    "                        if struc not in dataset.keys():\n",
    "                            dataset[struc] = 1\n",
    "                        else:\n",
    "                            dataset[struc] += 1\n",
    "\n",
    "                elif 'markings' in l['region_attributes'].keys() and not found_mark:\n",
    "                    # Add marking into the dataset type\n",
    "                    if 'mark' not in dataset.keys():\n",
    "                        dataset['mark'] = 1\n",
    "                    else:\n",
    "                        dataset['mark'] += 1 \n",
    "                    found_mark = True\n",
    "            if pos:\n",
    "                if 'pos' not in dataset.keys():\n",
    "                        dataset['pos'] = 1\n",
    "                else:\n",
    "                    dataset['pos'] += 1\n",
    "            else:\n",
    "                if 'neg' not in dataset.keys():\n",
    "                        dataset['neg'] = 1\n",
    "                else:\n",
    "                    dataset['neg'] += 1\n",
    "        \n",
    "    return dataset"
   ]
  },
  {
   "cell_type": "code",
   "execution_count": null,
   "metadata": {},
   "outputs": [],
   "source": [
    "r = 0\n",
    "for k,v in json_object.items():\n",
    "    print(v)\n",
    "    r += 1\n",
    "    if r > 1000:\n",
    "        break"
   ]
  },
  {
   "cell_type": "code",
   "execution_count": null,
   "metadata": {},
   "outputs": [],
   "source": [
    "# Each type of dataset should have following key => FFC, FFS, hemangioma, HCC, cyst, marking, pos, neg\n",
    "\n",
    "training_des = count_in_dataset('train')\n",
    "validation_des = count_in_dataset('val')\n",
    "testing_des = count_in_dataset('test')"
   ]
  },
  {
   "cell_type": "code",
   "execution_count": null,
   "metadata": {},
   "outputs": [],
   "source": [
    "training_des"
   ]
  },
  {
   "cell_type": "code",
   "execution_count": null,
   "metadata": {},
   "outputs": [],
   "source": [
    "validation_des"
   ]
  },
  {
   "cell_type": "code",
   "execution_count": null,
   "metadata": {},
   "outputs": [],
   "source": [
    "testing_des"
   ]
  },
  {
   "cell_type": "code",
   "execution_count": null,
   "metadata": {},
   "outputs": [],
   "source": [
    "sorted(training_des.items())"
   ]
  },
  {
   "cell_type": "code",
   "execution_count": null,
   "metadata": {},
   "outputs": [],
   "source": [
    "# create list of values in each dataset\n",
    "train_list = [v for k, v in sorted(training_des.items())]\n",
    "val_list = [v for k, v in sorted(validation_des.items())]\n",
    "test_list = [v for k, v in sorted(testing_des.items())]"
   ]
  },
  {
   "cell_type": "code",
   "execution_count": null,
   "metadata": {},
   "outputs": [],
   "source": [
    "print(\"Lesion in training set:\",sum(train_selected)) # 0.878\n",
    "print(\"Lesion in validation set:\",sum(val_selected)) # 0.0586\n",
    "print(\"Lesion in testing set:\",sum(test_selected)) #  0.0634\n",
    "print(\"Al lesion in dataset\", sum(train_selected)+sum(val_selected)+sum(test_selected))"
   ]
  },
  {
   "cell_type": "code",
   "execution_count": null,
   "metadata": {},
   "outputs": [],
   "source": [
    "train_selected = train_list[:-3]\n",
    "train_ratio = [x / sum(train_selected) for x in train_selected ]\n",
    "print(train_ratio)"
   ]
  },
  {
   "cell_type": "code",
   "execution_count": null,
   "metadata": {},
   "outputs": [],
   "source": [
    "val_selected = val_list[:-3]\n",
    "val_ratio = [x / sum(val_selected) for x in val_selected ]\n",
    "print(val_ratio)"
   ]
  },
  {
   "cell_type": "code",
   "execution_count": null,
   "metadata": {},
   "outputs": [],
   "source": [
    "test_selected = test_list[:-3]\n",
    "test_ratio = [x / sum(test_selected) for x in test_selected ]\n",
    "print(test_ratio)"
   ]
  },
  {
   "cell_type": "code",
   "execution_count": null,
   "metadata": {},
   "outputs": [],
   "source": [
    "labels = ['FFC', 'FFS', 'HCC', 'cyst', 'hemangioma', 'mark', 'neg', 'pos']\n",
    "x = np.arange(len(labels))\n",
    "width = 0.25\n",
    "\n",
    "fig, ax = plt.subplots(figsize=(12,8))\n",
    "rects1 = ax.bar(x - width, train_list, width, label='Train')\n",
    "rects2 = ax.bar(x, val_list, width, label='Val')\n",
    "rects3 = ax.bar(x + width, test_list, width, label='Test')\n",
    "\n",
    "# Add some text for labels, title and custom x-axis tick labels, etc.\n",
    "ax.set_ylabel('The number of each region')\n",
    "ax.set_title('Each of region in the dataset')\n",
    "ax.set_xticks(x)\n",
    "ax.set_xticklabels(labels)\n",
    "ax.legend()"
   ]
  },
  {
   "cell_type": "code",
   "execution_count": null,
   "metadata": {},
   "outputs": [],
   "source": [
    "print(train_list[6:],sum(train_list[6:])) #0.7865, 0.2134\n",
    "print(val_list[6:], sum(val_list[6:])) # 0.8577, \n",
    "print(test_list[6:], sum(test_list[6:])) # 0.8572\n",
    "\n",
    "# All images = 99541\n",
    "# Training images => 81929 / 99541 = 0.82\n",
    "# Validation images => 8624 / 99541 = 0.0866\n",
    "# Testing images => 8988 / 99541 = 0.09"
   ]
  },
  {
   "cell_type": "code",
   "execution_count": null,
   "metadata": {},
   "outputs": [],
   "source": []
  },
  {
   "cell_type": "raw",
   "metadata": {},
   "source": []
  }
 ],
 "metadata": {
  "kernelspec": {
   "display_name": "Python 3",
   "language": "python",
   "name": "python3"
  },
  "language_info": {
   "codemirror_mode": {
    "name": "ipython",
    "version": 3
   },
   "file_extension": ".py",
   "mimetype": "text/x-python",
   "name": "python",
   "nbconvert_exporter": "python",
   "pygments_lexer": "ipython3",
   "version": "3.7.5"
  }
 },
 "nbformat": 4,
 "nbformat_minor": 4
}
